{
  "cells": [
    {
      "cell_type": "markdown",
      "metadata": {
        "id": "view-in-github",
        "colab_type": "text"
      },
      "source": [
        "<a href=\"https://colab.research.google.com/github/LobzovaDaria/Data-visualization-in-Matplotlib/blob/main/HW_lesson1.ipynb\" target=\"_parent\"><img src=\"https://colab.research.google.com/assets/colab-badge.svg\" alt=\"Open In Colab\"/></a>"
      ]
    },
    {
      "cell_type": "markdown",
      "id": "67e60375",
      "metadata": {
        "id": "67e60375"
      },
      "source": [
        "## Практическое задание"
      ]
    },
    {
      "cell_type": "markdown",
      "id": "a8f3b1d6",
      "metadata": {
        "id": "a8f3b1d6"
      },
      "source": [
        "__1.__ Исследуйте на линейную зависимость:\n",
        "\n",
        "$$f_{1}(x)=e^{x}, f_{2}(x)=1, f_{3}(x)=x+1, f_{4}(x)=x-e^{x}.$$"
      ]
    },
    {
      "cell_type": "markdown",
      "id": "2239a6cb",
      "metadata": {
        "id": "2239a6cb"
      },
      "source": [
        "__Решение__\n",
        " \n",
        "Заметим, что $f_{4}(x)=f_{3}(x)-f_{2}(x)-f_{1}(x)$, то есть вектор $f_{4}(x)$ — линейная комбинация векторов $f_{3}(x)$, $f_{2}(x)$ и $f_{1}(x)$, из чего можно сделать вывод, что вектора линейно зависимы."
      ]
    },
    {
      "cell_type": "markdown",
      "id": "1950089e",
      "metadata": {
        "id": "1950089e"
      },
      "source": [
        "__2.__ Исследуйте на линейную зависимость:\n",
        "$$f_{1}(x)=2, f_{2}(x)=x, f_{3}(x)=x^{2}, f_{4}(x)=(x+1)^{2}$$"
      ]
    },
    {
      "cell_type": "markdown",
      "id": "e1280446",
      "metadata": {
        "id": "e1280446"
      },
      "source": [
        "$$f_{4}(x)=f_{3}(x)+2f_{2}(x)+f_{1}(x)$$ => вектра линейно зависимы"
      ]
    },
    {
      "cell_type": "markdown",
      "id": "4b65a1c8",
      "metadata": {
        "id": "4b65a1c8"
      },
      "source": [
        "__3.__ Найдите координаты вектора $x = (2, 3, 5)\\in \\mathbb{R}^{3}$ в базисе $b_{1}=(0, 0, 10)$, $b_{2}=(2, 0, 0)$, $b_{3}=(0, 1, 0)$."
      ]
    },
    {
      "cell_type": "markdown",
      "id": "150cb312",
      "metadata": {
        "id": "150cb312"
      },
      "source": [
        "\n",
        "\n",
        "__Решение__\n",
        "\n",
        "$$x=(2, 3, 5)=1\\cdot(2, 0, 0)+3\\cdot(0, 1, 0)+0.5\\cdot(0, 0, 10)=e_{1}+3e_{2}+0.5e_{3},$$\n",
        "\n",
        "\n",
        "то есть координаты вектора $x$ в стандартном базисе: $1$, $3$, $0.5$."
      ]
    },
    {
      "cell_type": "markdown",
      "id": "6282fbc5",
      "metadata": {
        "id": "6282fbc5"
      },
      "source": [
        "__4.__ Найдите координаты вектора $3x^{2}-2x+2\\in\\mathbb{R}^{3}[x]$:\n",
        "\n",
        "а) в базисе $1$, $x$, $x^{2}$;\n",
        "\n",
        "б) в базисе $x^{2}$, $x-1$, $1$."
      ]
    },
    {
      "cell_type": "markdown",
      "id": "4eb3a05b",
      "metadata": {
        "id": "4eb3a05b"
      },
      "source": [
        "a) векторы в этом базисе: <br>\n",
        "$e_{1}=(1, 0, 0)$, $e_{2}=(0, x, 0)$, $e_{3}=(0, 0, x^{2})$ <br>\n",
        "значит координаты вектора $3x^{2}-2x+2$ в этом базисе: <br>\n",
        "$3x^{2}*e_{1}-2*e_{2}+1/2x^{2}*e_{3}$ => $3x^{2}$, $2$, $1/2x^{2}$"
      ]
    },
    {
      "cell_type": "markdown",
      "id": "6dde90a7",
      "metadata": {
        "id": "6dde90a7"
      },
      "source": [
        "б)векторы в этом базисе: <br>\n",
        "$e_{1}=(x^{2}, 0, 0)$, $e_{2}=(0, x-1, 0)$, $e_{3}=(0, 0, 1)$ <br>\n",
        "значит координаты вектора $3x^{2}-2x+2$ в этом базисе: <br>\n",
        "3, -2, 0"
      ]
    },
    {
      "cell_type": "markdown",
      "id": "d793e05b",
      "metadata": {
        "id": "d793e05b"
      },
      "source": [
        "__5.__ Установите, считается ли линейным подпространством:\n",
        "\n",
        "а) совокупность всех векторов трёхмерного пространства, у которых по крайней мере одна из первых двух координат равна нулю;\n",
        "    \n",
        "б) все векторы, считающиеся линейными комбинациями данных векторов $\\{u_{1}, u_{2} \\ldots, u_{n}\\}$."
      ]
    },
    {
      "cell_type": "markdown",
      "id": "e92b3294",
      "metadata": {
        "id": "e92b3294"
      },
      "source": [
        "а) думаю,нет\n"
      ]
    },
    {
      "cell_type": "markdown",
      "id": "b754a6aa",
      "metadata": {
        "id": "b754a6aa"
      },
      "source": [
        "б)"
      ]
    },
    {
      "cell_type": "markdown",
      "id": "58b0fd45",
      "metadata": {
        "id": "58b0fd45"
      },
      "source": [
        "![IMG_2285.jpeg](attachment:IMG_2285.jpeg)"
      ]
    },
    {
      "cell_type": "markdown",
      "id": "b4d2f7c5",
      "metadata": {
        "id": "b4d2f7c5"
      },
      "source": [
        "# Линейное пространство. Основные понятия. Часть 2"
      ]
    },
    {
      "cell_type": "markdown",
      "id": "14b26a9d",
      "metadata": {
        "id": "14b26a9d"
      },
      "source": [
        "## Практическое задание"
      ]
    },
    {
      "cell_type": "markdown",
      "id": "f9af8e75",
      "metadata": {
        "id": "f9af8e75"
      },
      "source": [
        "__1.__ Найдите скалярное произведение векторов $x, y \\in \\mathbb{R}$:<br>\n",
        "а) $x=(0,-3, 6),~y=(-4, 7, 9);$<br>\n",
        "б) $x=(7, -4, 0, 1),~y=(-3, 1, 11, 2).$"
      ]
    },
    {
      "cell_type": "markdown",
      "id": "253b3b3c",
      "metadata": {
        "id": "253b3b3c"
      },
      "source": [
        "Решение:"
      ]
    },
    {
      "cell_type": "code",
      "execution_count": null,
      "id": "9b1363cb",
      "metadata": {
        "id": "9b1363cb"
      },
      "outputs": [],
      "source": [
        "import numpy as np"
      ]
    },
    {
      "cell_type": "code",
      "execution_count": null,
      "id": "1dd3d300",
      "metadata": {
        "id": "1dd3d300",
        "outputId": "93f644f7-6759-4e77-c5dc-c4db0fe89068"
      },
      "outputs": [
        {
          "name": "stdout",
          "output_type": "stream",
          "text": [
            "Скалярное произведение:\n",
            "33\n"
          ]
        }
      ],
      "source": [
        "#a)\n",
        "x = np.array([0, -3, 6])\n",
        "y = np.array([-4, 7,9])\n",
        "print(f'Скалярное произведение:\\n{np.dot(x, y)}')"
      ]
    },
    {
      "cell_type": "code",
      "execution_count": null,
      "id": "b377bb27",
      "metadata": {
        "id": "b377bb27",
        "outputId": "882b4d2d-fed5-492f-9a4d-386019b4e191"
      },
      "outputs": [
        {
          "name": "stdout",
          "output_type": "stream",
          "text": [
            "Скалярное произведение:\n",
            "-23\n"
          ]
        }
      ],
      "source": [
        "#б)\n",
        "x = np.array([7, -4, 0, 1])\n",
        "y = np.array([-3, 1, 11, 2])\n",
        "print(f'Скалярное произведение:\\n{np.dot(x, y)}')"
      ]
    },
    {
      "cell_type": "markdown",
      "id": "c1c7cca1",
      "metadata": {
        "id": "c1c7cca1"
      },
      "source": [
        "__2.__ Найдите нормы векторов $(4, 2, 4)$ и $(12, 3, 4)$ и угол между ними."
      ]
    },
    {
      "cell_type": "code",
      "execution_count": null,
      "id": "a2827687",
      "metadata": {
        "id": "a2827687"
      },
      "outputs": [],
      "source": [
        "from numpy.linalg import norm"
      ]
    },
    {
      "cell_type": "code",
      "execution_count": null,
      "id": "7ccf4886",
      "metadata": {
        "id": "7ccf4886"
      },
      "outputs": [],
      "source": [
        "a = np.array([4, 2, 4])\n",
        "b = np.array([12, 3, 4])"
      ]
    },
    {
      "cell_type": "code",
      "execution_count": null,
      "id": "c7e86ba5",
      "metadata": {
        "id": "c7e86ba5",
        "outputId": "122947e9-073c-496d-b1f1-e28279cc3956"
      },
      "outputs": [
        {
          "name": "stdout",
          "output_type": "stream",
          "text": [
            "l1 Манхэттенская норма вектора a:\n",
            "10.0\n",
            "l1 Манхэттенская норма вектора b:\n",
            "19.0\n"
          ]
        }
      ],
      "source": [
        "print(f'l1 Манхэттенская норма вектора a:\\n{norm(a, ord=1)}')\n",
        "print(f'l1 Манхэттенская норма вектора b:\\n{norm(b, ord=1)}')"
      ]
    },
    {
      "cell_type": "code",
      "execution_count": null,
      "id": "1f5cf4fd",
      "metadata": {
        "id": "1f5cf4fd",
        "outputId": "3461d386-8561-4763-e370-8d8ced0c8650"
      },
      "outputs": [
        {
          "name": "stdout",
          "output_type": "stream",
          "text": [
            "l2 Евклидова норма вектора а:\n",
            "6.0\n",
            "l2 Евклидова норма вектора b:\n",
            "13.0\n"
          ]
        }
      ],
      "source": [
        "print(f'l2 Евклидова норма вектора а:\\n{norm(a, ord=2)}')\n",
        "print(f'l2 Евклидова норма вектора b:\\n{norm(b, ord=2)}')"
      ]
    },
    {
      "cell_type": "markdown",
      "id": "73770e71",
      "metadata": {
        "id": "73770e71"
      },
      "source": [
        "угол между векторами:"
      ]
    },
    {
      "cell_type": "code",
      "execution_count": null,
      "id": "c747c6c5",
      "metadata": {
        "id": "c747c6c5",
        "outputId": "ea73cdba-4fc0-495a-c71a-9fa67352a4ce"
      },
      "outputs": [
        {
          "data": {
            "text/plain": [
              "0.8974358974358974"
            ]
          },
          "execution_count": 34,
          "metadata": {},
          "output_type": "execute_result"
        }
      ],
      "source": [
        "cos_phi = np.dot(a, b) / norm(a) / norm(b)\n",
        "cos_phi"
      ]
    },
    {
      "cell_type": "markdown",
      "id": "fc49d0d7",
      "metadata": {
        "id": "fc49d0d7"
      },
      "source": [
        "__3.__ Определите, будет ли линейное пространство евклидовым, если за скалярное произведение принять:<br>\n",
        "а) произведение длин векторов;<br>\n",
        "б) утроенное обычное скалярное произведение векторов?"
      ]
    },
    {
      "cell_type": "markdown",
      "id": "f59b6c07",
      "metadata": {
        "id": "f59b6c07"
      },
      "source": [
        "а) да, из свойства ортонормированного базиса (в евклидовом пространстве с ортонормированным базисом скалярное произведение двух векторов равняется сумме произведений соответствующих координат этих векторов в этом базисе.)"
      ]
    },
    {
      "cell_type": "markdown",
      "id": "ff8695c7",
      "metadata": {
        "id": "ff8695c7"
      },
      "source": [
        "б)нет"
      ]
    },
    {
      "cell_type": "markdown",
      "id": "2939bed6",
      "metadata": {
        "id": "2939bed6"
      },
      "source": [
        "__4.__ Выясните, какие из нижеперечисленных векторов образуют ортонормированный базис в линейном пространстве $\\mathbb{R}^{3}$:<br>\n",
        "а) $(1,0,0),(0,0,1);$ <br>\n",
        "б) $(1/\\sqrt{2},-1/\\sqrt{2},0),(1/\\sqrt{2},1/\\sqrt{2},0), (0,0,1);$<br>\n",
        "в) $(1/2, -1/2, 0), (0, 1/2, 1/2), (0,0,1);$<br>\n",
        "г) $(1,0,0),(0,1,0),(0,0,1)?$ \n"
      ]
    },
    {
      "cell_type": "markdown",
      "id": "19f94817",
      "metadata": {
        "id": "19f94817"
      },
      "source": [
        "Ортогональные Векторы x и y называются ортогональными, если xy = 0. Набор векторов\n",
        "называется ортогональным, если любые два различных вектора из этого\n",
        "набора ортогональны. Ортогональный набор векторов называется\n",
        "ортонормированным, если длины всех векторов из этого набора равны 1."
      ]
    },
    {
      "cell_type": "code",
      "execution_count": null,
      "id": "a1400001",
      "metadata": {
        "id": "a1400001"
      },
      "outputs": [],
      "source": [
        "import math"
      ]
    },
    {
      "cell_type": "code",
      "execution_count": null,
      "id": "d2959c17",
      "metadata": {
        "id": "d2959c17",
        "outputId": "4d2511bf-7e5b-4139-a317-2eb13ec6d8bb"
      },
      "outputs": [
        {
          "name": "stdout",
          "output_type": "stream",
          "text": [
            "Скалярное произведение:\n",
            "0\n"
          ]
        }
      ],
      "source": [
        "#a)\n",
        "x = np.array([1,0,0])\n",
        "y = np.array([0,0,1])\n",
        "print(f'Скалярное произведение:\\n{np.dot(x, y)}')"
      ]
    },
    {
      "cell_type": "markdown",
      "id": "29d9885c",
      "metadata": {
        "id": "29d9885c"
      },
      "source": [
        "тк длины всех векторов равны 1, то набор векторов ортогональный"
      ]
    },
    {
      "cell_type": "code",
      "execution_count": null,
      "id": "5f76f6ee",
      "metadata": {
        "id": "5f76f6ee",
        "outputId": "f64a6437-78fc-42e1-99c1-a924cfd6b12e"
      },
      "outputs": [
        {
          "name": "stdout",
          "output_type": "stream",
          "text": [
            "Скалярное произведение x,y:\n",
            "0.0\n",
            "Скалярное произведение x,z:\n",
            "0.0\n",
            "Скалярное произведение y,z:\n",
            "1.0\n"
          ]
        }
      ],
      "source": [
        "#б)\n",
        "x = np.array([1/math.sqrt(2),-1/math.sqrt(2),0])\n",
        "y = np.array([1/math.sqrt(2),1/math.sqrt(2),1])\n",
        "z = np.array([0,0,1])\n",
        "print(f'Скалярное произведение x,y:\\n{np.dot(x, y)}')\n",
        "print(f'Скалярное произведение x,z:\\n{np.dot(x, z)}')\n",
        "print(f'Скалярное произведение y,z:\\n{np.dot(z, y)}')\n"
      ]
    },
    {
      "cell_type": "markdown",
      "id": "7e5a2b76",
      "metadata": {
        "id": "7e5a2b76"
      },
      "source": [
        "тк длины всех векторов равны 1, то набор векторов ортогональный"
      ]
    },
    {
      "cell_type": "code",
      "execution_count": null,
      "id": "44e57dcd",
      "metadata": {
        "id": "44e57dcd",
        "outputId": "0ee7e0cb-33f3-4797-ebee-cd892dc9ef61"
      },
      "outputs": [
        {
          "name": "stdout",
          "output_type": "stream",
          "text": [
            "Скалярное произведение x,y:\n",
            "-0.25\n",
            "Скалярное произведение x,z:\n",
            "0.0\n",
            "Скалярное произведение y,z:\n",
            "0.5\n"
          ]
        }
      ],
      "source": [
        "#в)\n",
        "x = np.array([1/2,-1/2,0])\n",
        "y = np.array([0,1/2,1/2])\n",
        "z = np.array([0,0,1])\n",
        "print(f'Скалярное произведение x,y:\\n{np.dot(x, y)}')\n",
        "print(f'Скалярное произведение x,z:\\n{np.dot(x, z)}')\n",
        "print(f'Скалярное произведение y,z:\\n{np.dot(z, y)}')"
      ]
    },
    {
      "cell_type": "markdown",
      "id": "2dcdaa47",
      "metadata": {
        "id": "2dcdaa47"
      },
      "source": [
        "тк длины всех векторов равны 1, то набор векторов ортогональный"
      ]
    },
    {
      "cell_type": "code",
      "execution_count": null,
      "id": "0a27ff85",
      "metadata": {
        "id": "0a27ff85",
        "outputId": "ceff1855-b878-4f5e-a20f-5ed614746342"
      },
      "outputs": [
        {
          "name": "stdout",
          "output_type": "stream",
          "text": [
            "Скалярное произведение x,y:\n",
            "0\n",
            "Скалярное произведение x,z:\n",
            "0\n",
            "Скалярное произведение y,z:\n",
            "0\n"
          ]
        }
      ],
      "source": [
        "#г)\n",
        "x = np.array([1,0,0])\n",
        "y = np.array([0,1,0])\n",
        "z = np.array([0,0,1])\n",
        "print(f'Скалярное произведение x,y:\\n{np.dot(x, y)}')\n",
        "print(f'Скалярное произведение x,z:\\n{np.dot(x, z)}')\n",
        "print(f'Скалярное произведение y,z:\\n{np.dot(z, y)}')\n"
      ]
    },
    {
      "cell_type": "markdown",
      "id": "73ebc3d0",
      "metadata": {
        "id": "73ebc3d0"
      },
      "source": [
        "тк длины всех векторов равны 1, то набор векторов ортогональный"
      ]
    }
  ],
  "metadata": {
    "kernelspec": {
      "display_name": "Python 3 (ipykernel)",
      "language": "python",
      "name": "python3"
    },
    "language_info": {
      "codemirror_mode": {
        "name": "ipython",
        "version": 3
      },
      "file_extension": ".py",
      "mimetype": "text/x-python",
      "name": "python",
      "nbconvert_exporter": "python",
      "pygments_lexer": "ipython3",
      "version": "3.9.12"
    },
    "colab": {
      "provenance": [],
      "include_colab_link": true
    }
  },
  "nbformat": 4,
  "nbformat_minor": 5
}